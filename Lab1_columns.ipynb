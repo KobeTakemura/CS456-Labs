{
 "cells": [
  {
   "cell_type": "code",
   "execution_count": 136,
   "id": "574812a1-2b50-43b1-80ab-ac1060172ddd",
   "metadata": {},
   "outputs": [],
   "source": [
    "import random\n",
    "import pandas as pd\n",
    "import numpy as np"
   ]
  },
  {
   "cell_type": "code",
   "execution_count": 137,
   "id": "70f5310f-7a82-4966-a6dc-e8ab28c7b992",
   "metadata": {},
   "outputs": [],
   "source": [
    "#Define values\n",
    "majors=['Computer Science', 'Mathematics', 'Physics', 'Engineering', 'Biology']\n",
    "graduation_years=list(range(2025, 2030))\n"
   ]
  },
  {
   "cell_type": "code",
   "execution_count": 138,
   "id": "6f71af1d-2db0-437c-841f-9e57f0e55758",
   "metadata": {},
   "outputs": [],
   "source": [
    "#Generate rows and random data \n",
    "num_rows=50\n",
    "data={\n",
    "    \"Student_ID\": [random.randint(1000, 9999) for _ in range(num_rows)],\n",
    "    \"Score\": [round(random.uniform(20, 100),2) for _ in range(num_rows)],\n",
    "    \"Major\": [random.choice(majors) for _ in range(num_rows)],\n",
    "    \"Graduation_Year\": [random.choice(graduation_years) for _ in range(num_rows)],\n",
    "    \"Pass/Fail\": [random.choice([True, False]) for _ in range(num_rows)]\n",
    "}"
   ]
  },
  {
   "cell_type": "code",
   "execution_count": 139,
   "id": "367d5fcb-2572-4417-bbe4-698e0be37b7a",
   "metadata": {},
   "outputs": [
    {
     "name": "stdout",
     "output_type": "stream",
     "text": [
      "Student_ID           int64\n",
      "Score              float64\n",
      "Major               object\n",
      "Graduation_Year      int64\n",
      "Pass/Fail             bool\n",
      "dtype: object\n"
     ]
    }
   ],
   "source": [
    "#Convert to DataFrame\n",
    "df=pd.DataFrame(data)\n",
    "print(df.dtypes)"
   ]
  },
  {
   "cell_type": "code",
   "execution_count": 140,
   "id": "814af198-affd-4a28-af71-622aa27967a6",
   "metadata": {},
   "outputs": [
    {
     "name": "stdout",
     "output_type": "stream",
     "text": [
      "   Student_ID  Score        Major  Graduation_Year  Pass/Fail\n",
      "0        8933  83.85  Engineering             2025      False\n",
      "1        7355  42.05  Engineering             2025       True\n",
      "2        8450  66.45  Engineering             2029       True\n",
      "3        2647  21.39  Engineering             2025      False\n",
      "4        5038  78.07  Mathematics             2028       True\n"
     ]
    }
   ],
   "source": [
    "#Print first 5 rows\n",
    "print(df.head(5))"
   ]
  },
  {
   "cell_type": "code",
   "execution_count": 141,
   "id": "a34342da-4809-4477-b4cf-ad16985b1648",
   "metadata": {},
   "outputs": [
    {
     "name": "stdout",
     "output_type": "stream",
     "text": [
      "    Student_ID  Score             Major  Graduation_Year  Pass/Fail\n",
      "45        8742  98.78       Engineering             2025      False\n",
      "46        4688  84.47       Engineering             2025       True\n",
      "47        1597  90.84  Computer Science             2027      False\n",
      "48        4920  34.12           Physics             2027      False\n",
      "49        7231  47.54       Engineering             2029       True\n"
     ]
    }
   ],
   "source": [
    "#Print last 5 rows\n",
    "print(df.tail(5))"
   ]
  },
  {
   "cell_type": "code",
   "execution_count": 142,
   "id": "c6207962-3889-4d1d-814e-9f3331d231af",
   "metadata": {},
   "outputs": [
    {
     "name": "stdout",
     "output_type": "stream",
     "text": [
      "<class 'pandas.core.frame.DataFrame'>\n",
      "RangeIndex: 50 entries, 0 to 49\n",
      "Data columns (total 5 columns):\n",
      " #   Column           Non-Null Count  Dtype  \n",
      "---  ------           --------------  -----  \n",
      " 0   Student_ID       50 non-null     int64  \n",
      " 1   Score            50 non-null     float64\n",
      " 2   Major            50 non-null     object \n",
      " 3   Graduation_Year  50 non-null     int64  \n",
      " 4   Pass/Fail        50 non-null     bool   \n",
      "dtypes: bool(1), float64(1), int64(2), object(1)\n",
      "memory usage: 1.7+ KB\n",
      "None\n"
     ]
    }
   ],
   "source": [
    "#Print column names and data types\n",
    "print(df.info(5))"
   ]
  },
  {
   "cell_type": "code",
   "execution_count": 143,
   "id": "1f0f3400-6a6d-45bf-9951-1249cbc4fa25",
   "metadata": {},
   "outputs": [
    {
     "data": {
      "text/html": [
       "<div>\n",
       "<style scoped>\n",
       "    .dataframe tbody tr th:only-of-type {\n",
       "        vertical-align: middle;\n",
       "    }\n",
       "\n",
       "    .dataframe tbody tr th {\n",
       "        vertical-align: top;\n",
       "    }\n",
       "\n",
       "    .dataframe thead th {\n",
       "        text-align: right;\n",
       "    }\n",
       "</style>\n",
       "<table border=\"1\" class=\"dataframe\">\n",
       "  <thead>\n",
       "    <tr style=\"text-align: right;\">\n",
       "      <th></th>\n",
       "      <th>Student_ID</th>\n",
       "      <th>Score</th>\n",
       "      <th>Graduation_Year</th>\n",
       "    </tr>\n",
       "  </thead>\n",
       "  <tbody>\n",
       "    <tr>\n",
       "      <th>count</th>\n",
       "      <td>50.000000</td>\n",
       "      <td>50.000000</td>\n",
       "      <td>50.000000</td>\n",
       "    </tr>\n",
       "    <tr>\n",
       "      <th>mean</th>\n",
       "      <td>6275.260000</td>\n",
       "      <td>58.217000</td>\n",
       "      <td>2027.020000</td>\n",
       "    </tr>\n",
       "    <tr>\n",
       "      <th>std</th>\n",
       "      <td>2495.556752</td>\n",
       "      <td>25.957229</td>\n",
       "      <td>1.504958</td>\n",
       "    </tr>\n",
       "    <tr>\n",
       "      <th>min</th>\n",
       "      <td>1597.000000</td>\n",
       "      <td>21.390000</td>\n",
       "      <td>2025.000000</td>\n",
       "    </tr>\n",
       "    <tr>\n",
       "      <th>25%</th>\n",
       "      <td>4704.500000</td>\n",
       "      <td>30.347500</td>\n",
       "      <td>2026.000000</td>\n",
       "    </tr>\n",
       "    <tr>\n",
       "      <th>50%</th>\n",
       "      <td>7121.000000</td>\n",
       "      <td>57.575000</td>\n",
       "      <td>2027.000000</td>\n",
       "    </tr>\n",
       "    <tr>\n",
       "      <th>75%</th>\n",
       "      <td>8669.000000</td>\n",
       "      <td>83.080000</td>\n",
       "      <td>2028.000000</td>\n",
       "    </tr>\n",
       "    <tr>\n",
       "      <th>max</th>\n",
       "      <td>9915.000000</td>\n",
       "      <td>98.780000</td>\n",
       "      <td>2029.000000</td>\n",
       "    </tr>\n",
       "  </tbody>\n",
       "</table>\n",
       "</div>"
      ],
      "text/plain": [
       "        Student_ID      Score  Graduation_Year\n",
       "count    50.000000  50.000000        50.000000\n",
       "mean   6275.260000  58.217000      2027.020000\n",
       "std    2495.556752  25.957229         1.504958\n",
       "min    1597.000000  21.390000      2025.000000\n",
       "25%    4704.500000  30.347500      2026.000000\n",
       "50%    7121.000000  57.575000      2027.000000\n",
       "75%    8669.000000  83.080000      2028.000000\n",
       "max    9915.000000  98.780000      2029.000000"
      ]
     },
     "metadata": {},
     "output_type": "display_data"
    }
   ],
   "source": [
    "#Generate descriptive statistics \n",
    "display(df.describe())"
   ]
  },
  {
   "cell_type": "code",
   "execution_count": 144,
   "id": "87433f69-d484-4e4f-b4d8-8fab3d360b6a",
   "metadata": {},
   "outputs": [
    {
     "name": "stdout",
     "output_type": "stream",
     "text": [
      "50\n"
     ]
    }
   ],
   "source": [
    "#Find the number of unique values in a categorical column (Score)\n",
    "print(df[\"Score\"].nunique())\n"
   ]
  },
  {
   "cell_type": "code",
   "execution_count": 145,
   "id": "8c79c3ff-27dd-4498-baa4-0f517cd9b534",
   "metadata": {},
   "outputs": [],
   "source": [
    "#Score Conversion method\n",
    "def converter(score):\n",
    "    if score>=90: \n",
    "        return \"A\"\n",
    "    elif score>=80: \n",
    "        return \"B\"\n",
    "    elif score>=70: \n",
    "        return \"C\"\n",
    "    elif score>=60: \n",
    "        return \"D\"\n",
    "    else: \n",
    "        return \"F\""
   ]
  },
  {
   "cell_type": "code",
   "execution_count": 146,
   "id": "9b4e09e9-48c1-48fc-9c40-17026f1be5e4",
   "metadata": {},
   "outputs": [],
   "source": [
    "#Create new letter grade column\n",
    "df[\"Letter_Grade\"]=df[\"Score\"].apply(to_letter_grade)"
   ]
  },
  {
   "cell_type": "code",
   "execution_count": 147,
   "id": "1b7878a3-a9c3-4b12-887d-d1b88274c8b9",
   "metadata": {},
   "outputs": [
    {
     "data": {
      "text/html": [
       "<div>\n",
       "<style scoped>\n",
       "    .dataframe tbody tr th:only-of-type {\n",
       "        vertical-align: middle;\n",
       "    }\n",
       "\n",
       "    .dataframe tbody tr th {\n",
       "        vertical-align: top;\n",
       "    }\n",
       "\n",
       "    .dataframe thead th {\n",
       "        text-align: right;\n",
       "    }\n",
       "</style>\n",
       "<table border=\"1\" class=\"dataframe\">\n",
       "  <thead>\n",
       "    <tr style=\"text-align: right;\">\n",
       "      <th></th>\n",
       "      <th>Student_ID</th>\n",
       "      <th>Score</th>\n",
       "      <th>Major</th>\n",
       "      <th>Graduation_Year</th>\n",
       "      <th>Pass/Fail</th>\n",
       "      <th>Letter_Grade</th>\n",
       "    </tr>\n",
       "  </thead>\n",
       "  <tbody>\n",
       "    <tr>\n",
       "      <th>0</th>\n",
       "      <td>8933</td>\n",
       "      <td>83.85</td>\n",
       "      <td>Engineering</td>\n",
       "      <td>2025</td>\n",
       "      <td>False</td>\n",
       "      <td>B</td>\n",
       "    </tr>\n",
       "    <tr>\n",
       "      <th>1</th>\n",
       "      <td>7355</td>\n",
       "      <td>42.05</td>\n",
       "      <td>Engineering</td>\n",
       "      <td>2025</td>\n",
       "      <td>True</td>\n",
       "      <td>F</td>\n",
       "    </tr>\n",
       "    <tr>\n",
       "      <th>2</th>\n",
       "      <td>8450</td>\n",
       "      <td>66.45</td>\n",
       "      <td>Engineering</td>\n",
       "      <td>2029</td>\n",
       "      <td>True</td>\n",
       "      <td>D</td>\n",
       "    </tr>\n",
       "    <tr>\n",
       "      <th>3</th>\n",
       "      <td>2647</td>\n",
       "      <td>21.39</td>\n",
       "      <td>Engineering</td>\n",
       "      <td>2025</td>\n",
       "      <td>False</td>\n",
       "      <td>F</td>\n",
       "    </tr>\n",
       "    <tr>\n",
       "      <th>4</th>\n",
       "      <td>5038</td>\n",
       "      <td>78.07</td>\n",
       "      <td>Mathematics</td>\n",
       "      <td>2028</td>\n",
       "      <td>True</td>\n",
       "      <td>C</td>\n",
       "    </tr>\n",
       "  </tbody>\n",
       "</table>\n",
       "</div>"
      ],
      "text/plain": [
       "   Student_ID  Score        Major  Graduation_Year  Pass/Fail Letter_Grade\n",
       "0        8933  83.85  Engineering             2025      False            B\n",
       "1        7355  42.05  Engineering             2025       True            F\n",
       "2        8450  66.45  Engineering             2029       True            D\n",
       "3        2647  21.39  Engineering             2025      False            F\n",
       "4        5038  78.07  Mathematics             2028       True            C"
      ]
     },
     "metadata": {},
     "output_type": "display_data"
    }
   ],
   "source": [
    "#Print new colum\n",
    "display(df.head(5))"
   ]
  },
  {
   "cell_type": "code",
   "execution_count": 148,
   "id": "a9d6995a-4875-422e-a41a-12a34048cc1f",
   "metadata": {},
   "outputs": [],
   "source": [
    "#Save Table with 6 or more Columns to CSV\n",
    "df.to_csv(\"students_information.csv\", index=False)"
   ]
  },
  {
   "cell_type": "code",
   "execution_count": null,
   "id": "d3ef5fb4-a3e0-47fa-bb41-68ade0f767bf",
   "metadata": {},
   "outputs": [],
   "source": []
  },
  {
   "cell_type": "code",
   "execution_count": null,
   "id": "f7649f45-b583-4443-bbb2-82ef1187987c",
   "metadata": {},
   "outputs": [],
   "source": []
  }
 ],
 "metadata": {
  "kernelspec": {
   "display_name": "Python 3 (ipykernel)",
   "language": "python",
   "name": "python3"
  },
  "language_info": {
   "codemirror_mode": {
    "name": "ipython",
    "version": 3
   },
   "file_extension": ".py",
   "mimetype": "text/x-python",
   "name": "python",
   "nbconvert_exporter": "python",
   "pygments_lexer": "ipython3",
   "version": "3.12.4"
  }
 },
 "nbformat": 4,
 "nbformat_minor": 5
}
